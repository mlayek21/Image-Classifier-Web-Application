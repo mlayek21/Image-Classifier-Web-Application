{
 "cells": [
  {
   "cell_type": "markdown",
   "id": "6e800ba7-85eb-4798-b260-a76d56cb32a7",
   "metadata": {},
   "source": [
    "<h1>Assignment 2 (ME698G)\n",
    "    <h3>Monojit Layek (21105049)"
   ]
  },
  {
   "cell_type": "code",
   "execution_count": 1,
   "id": "9202df7b-2cf7-45d6-9eda-de092647260c",
   "metadata": {},
   "outputs": [],
   "source": [
    "#Importing Liberies:\n",
    "import numpy as np\n",
    "import pandas as pd\n",
    "import matplotlib.pyplot as plt\n",
    "import os\n",
    "import cv2\n",
    "import time as t"
   ]
  },
  {
   "cell_type": "markdown",
   "id": "8aa01608-f5b0-4ad5-844c-d03d1100a003",
   "metadata": {
    "tags": []
   },
   "source": [
    "# **Question**:\n",
    "The dataset comprising of dogs and cats images is uploaded to google drive.  You will have to write a code that can use **KNNClassifier, SVC, and logistic regression** for classification. You can train the data using the train.zip folder and report the confusion matrix on test1.zip folder."
   ]
  },
  {
   "cell_type": "markdown",
   "id": "da799008-3294-4c2d-8ec7-3081596506a6",
   "metadata": {},
   "source": [
    "___\n",
    "<h1>Answer:"
   ]
  },
  {
   "cell_type": "markdown",
   "id": "69e42b5c-3be6-4273-8981-637dfc9843a8",
   "metadata": {},
   "source": [
    "## Feature Extraction:\n",
    "\n",
    "1. Read each image from the train image folder and convert into grayscale image.\n",
    "\n",
    "2. Preprocess the images by resizing to (50 x 50) pixel value.\n",
    "\n",
    "3. Calculating Gradients (direction x and y).\n",
    "\n",
    "    1. Change in X direction: $~~\\Delta X_{i,j} = a_{i,j-1}-a_{i,j+1}$\n",
    "    \n",
    "    2. Change in Y direction: $~~\\Delta Y_{i,j} = a_{i-1,j}-a_{i+1,j}$\n",
    "    \n",
    "    3. Calculate the gradient magnitude: $~~Total~Gradient~Magnitude = \\sqrt(\\Delta X^2-\\Delta Y^2)$\n",
    "    \n",
    "    4. Calculate the orientation (or direction):$~~\\Phi = \\arctan(\\frac{\\Delta Y}{\\Delta X})$\n",
    "\n",
    "\n",
    "\n",
    "4. Generate histogram having binsize of 16 and use the gradient magnitude to fill the values in the matrix(Histogram of Oriented Gradients (HOG)).\n",
    "\n",
    "5. Assign the label for the images, where '0' represents 'Cat' and '1' represents 'Dog'.\n",
    "\n",
    "6. Stack all the features and labels and store into the data variables. "
   ]
  },
  {
   "cell_type": "code",
   "execution_count": 2,
   "id": "189582b0-24d9-4b17-93c8-8273b2da2e49",
   "metadata": {},
   "outputs": [],
   "source": [
    "'''\n",
    "Feature Extraction:\n",
    "'''\n",
    "def hog(img):\n",
    "    gx = cv2.Sobel(img, cv2.CV_32F, 1, 0) #gradient in x\n",
    "    gy = cv2.Sobel(img, cv2.CV_32F, 0, 1)  #gradient in x\n",
    "    mag, ang = cv2.cartToPolar(gx, gy)      #magnitude and angle\n",
    "    bin_n = 16                            # Number of bins\n",
    "    bin = np.int32(bin_n*ang/(2*np.pi))\n",
    "    bin_cells = []\n",
    "    mag_cells = []\n",
    "    \n",
    "    # no of hog feature cells\n",
    "    cellx = celly = 8\n",
    "\n",
    "    for i in range(0,img.shape[0]//celly):\n",
    "        for j in range(0,img.shape[1]//cellx):\n",
    "            bin_cells.append(bin[i*celly : i*celly+celly, j*cellx : j*cellx+cellx])\n",
    "            mag_cells.append(mag[i*celly : i*celly+celly, j*cellx : j*cellx+cellx])   \n",
    "\n",
    "    # appending histogram     \n",
    "    hists = [np.bincount(b.ravel(), m.ravel(), bin_n) for b, m in zip(bin_cells, mag_cells)]\n",
    "    hist = np.hstack(hists)\n",
    "    \n",
    "    return hist\n",
    "\n",
    "def feature_extractor(path):\n",
    "    feature = []\n",
    "    label = []\n",
    "    for file in os.listdir(path):\n",
    "        # print(file)\n",
    "        #importing the image and resize it to (50*50) \n",
    "        img = cv2.resize(cv2.imread(os.path.join(path, file)), (50, 50)) \n",
    "        feature.append(hog(img))\n",
    "        if (file[0:3]==\"cat\")==True:            # cat indicated by 0\n",
    "            label.append(0)\n",
    "        elif (file[0:3]==\"dog\")==True:             # dog indicated by 1\n",
    "            label.append(1)\n",
    "            \n",
    "    labels = np.array([label], dtype = int)        #label array\n",
    "    features = np.array(feature, dtype = float) #feature array\n",
    "    data = np.hstack((features,labels.T))\n",
    "    \n",
    "    return data"
   ]
  },
  {
   "cell_type": "code",
   "execution_count": 3,
   "id": "35d15677-8dec-48ab-ace8-da6eb62b3231",
   "metadata": {},
   "outputs": [
    {
     "name": "stdout",
     "output_type": "stream",
     "text": [
      "Dimention of Features into the data:  (25000, 576)\n",
      "Dimention of label into the data:  (25000,)\n",
      "CPU times: user 34.4 s, sys: 921 ms, total: 35.3 s\n",
      "Wall time: 41 s\n"
     ]
    }
   ],
   "source": [
    "%%time\n",
    "# import the Resnet data\n",
    "image_folder = r\"train/\"\n",
    "data = feature_extractor(image_folder)\n",
    "\n",
    "X,y = data[:,:-1], data[:,-1:].flatten().astype('int64')\n",
    "print('Dimention of Features into the data: ',X.shape)\n",
    "print('Dimention of label into the data: ',y.shape)"
   ]
  },
  {
   "cell_type": "markdown",
   "id": "b137497e-7fd4-42ed-91f6-10f20b697e0a",
   "metadata": {
    "tags": [],
    "toc-hr-collapsed": true
   },
   "source": [
    "## Scaling the dataset and split into test and train sets"
   ]
  },
  {
   "cell_type": "code",
   "execution_count": 4,
   "id": "bf6705d2-9c10-47d1-a18e-e4659576b55d",
   "metadata": {},
   "outputs": [],
   "source": [
    "'''\n",
    "Test Train split:\n",
    "'''\n",
    "# test train split for multi dimentional datasets\n",
    "def train_test_split(X,y,k):\n",
    "    x_test = []\n",
    "    x_train = []\n",
    "    y_test = []\n",
    "    y_train = []\n",
    "    A = np.column_stack((X,y)) #stacking the feature and lables into single array A\n",
    "    np.random.shuffle(A) #suffling data into random manner\n",
    "    n = np.round(len(X)*k)\n",
    "\n",
    "    for i in range (len(X)):\n",
    "        #test data\n",
    "        if i<n:\n",
    "            x_test.append(A[:,:-1][i])\n",
    "            y_test.append(A[:,-1:][i])\n",
    "\n",
    "        #train data\n",
    "        else:\n",
    "            x_train.append(A[:,:-1][i])\n",
    "            y_train.append(A[:,-1:][i])\n",
    "\n",
    "    return np.array(x_train), np.array(x_test), np.ravel(y_train).astype('int64'), np.ravel(y_test).astype('int64')\n",
    "\n",
    "'''\n",
    "Standard Scaler:\n",
    "'''\n",
    "def Standard_Scaler(X):\n",
    "    A = []\n",
    "    B = X.T\n",
    "    for row in B:\n",
    "        A.append((row-np.mean(row))/np.std(row))\n",
    "    x = np.array(A).T\n",
    "    return x"
   ]
  },
  {
   "cell_type": "code",
   "execution_count": 5,
   "id": "8a050c05-5780-480f-af84-a1802ac0dafa",
   "metadata": {},
   "outputs": [
    {
     "name": "stdout",
     "output_type": "stream",
     "text": [
      "Dimention of train data:  (17500, 576)\n",
      "Dimention of test data:  (7500, 576)\n"
     ]
    }
   ],
   "source": [
    "# Scale the featureset\n",
    "X = Standard_Scaler(X)\n",
    "# 30% test train split\n",
    "Xtrain, Xtest, ytrain, ytest = train_test_split(X, y, 0.3)\n",
    "print('Dimention of train data: ',Xtrain.shape)\n",
    "print('Dimention of test data: ',Xtest.shape)"
   ]
  },
  {
   "cell_type": "code",
   "execution_count": 6,
   "id": "4b755e11-5b73-422b-adba-36774d9f638a",
   "metadata": {},
   "outputs": [],
   "source": [
    "'''\n",
    "Confusion Matrix:\n",
    "'''\n",
    "def confusion_matrix(Y,y,a):\n",
    "    pred = y   #predicted values\n",
    "    true = Y    #actual values\n",
    "    classes = len(np.unique(ytest))\n",
    "    #computing the confusion matrix\n",
    "    conf_matrix = np.bincount(true * classes + pred).reshape((classes, classes))\n",
    "    \n",
    "    # Print the confusion matrix using Matplotlib\n",
    "    fig, ax = plt.subplots(figsize=(8.5, 8.5))\n",
    "    ax.matshow(conf_matrix, cmap=plt.cm.Blues, alpha=0.5)\n",
    "    ticks = ['Cat','Dog']\n",
    "    for i in range(conf_matrix.shape[0]):\n",
    "        for j in range(conf_matrix.shape[1]):\n",
    "            ax.text(x=j, y=i,s=conf_matrix[i, j], va='center', ha='center', size='xx-large')\n",
    "    ax.set_xticks(np.arange(len(ticks)), labels=ticks, fontsize=12)\n",
    "    ax.set_yticks(np.arange(len(ticks)), labels=ticks, fontsize=12)\n",
    "    plt.xlabel('Predictions', fontsize=16)\n",
    "    plt.ylabel('Actuals', fontsize=16)\n",
    "    plt.title('Confusion Matrix '+ a, fontsize=22)\n",
    "    plt.show()\n",
    "    return np.ravel(conf_matrix)\n",
    "\n",
    "# computing the accuracy \n",
    "def accuracy(y_true, y_pred):\n",
    "    accuracy = np.sum(y_true == y_pred)/len(y_true)*100\n",
    "    return np.around(accuracy, 3)"
   ]
  },
  {
   "cell_type": "markdown",
   "id": "55208b94-8cdf-4b70-8c13-f218ac963219",
   "metadata": {},
   "source": [
    "## Support Vector Machine:\n",
    "### Algorithm:   \n",
    "1. Equation for the linear hyperplane: $$y =w^T X -b$$ \n",
    ">where,    $w^T.x_i -b\\geq1~~~~~~~if,~y_i=1$\n",
    "         >>$w^T.x_i -b\\leq1~~~~~~~if,~y_i=-1$\n",
    "\n",
    "2. Hinge Loss:$$l = max(0,1-y_i(w.x_i-b))$$\n",
    "> where,\n",
    "$$    l= \n",
    "\\begin{cases}\n",
    "    0,& \\text{if } y.f(x)\\geq 1\\\\\n",
    "    1-y.f(x),              & \\text{otherwise}\n",
    "\\end{cases}\n",
    "$$\n",
    "\n",
    "3. After adding the Regulariser: $$L = \\lambda||w||^2+\\frac{1}{n}\\sum_{i=0}^n max(0,1-y_i(w.x_i-b))$$\n",
    "> where, $if~~y_i.f(x)\\geq1~~~ then, ~L = \\lambda||w||^2$\n",
    "        >>$else,~~L = \\lambda||w||^2+1-y_i(w.x_i-b)$\n",
    "4. Gradient: \n",
    ">where,\n",
    ">>$$if,~~y_i.f(x)\\geq1~~~ then, \\frac{\\partial L}{\\partial w} = 2\\lambda w~~and~~\\frac{\\partial L}{\\partial b}=0$$\n",
    ">>$$else,~~\\frac{\\partial L}{\\partial w} = 2\\lambda w-y_i . x_i~~and~~\\frac{\\partial L}{\\partial b}=y_i$$\n",
    "5. Update rules: $$~~w_{i+1} = w_i -\\alpha . \\partial w~~~and~~~b_{i+1} = b_i -\\alpha . \\partial b$$\n",
    ">where, $~\\alpha \\to ~learning~rate$\n",
    ">> $~\\lambda ~\\to~regulariser$"
   ]
  },
  {
   "cell_type": "code",
   "execution_count": 7,
   "id": "957e6743-a966-4ee6-99d9-0fbc111d953d",
   "metadata": {},
   "outputs": [],
   "source": [
    "'''\n",
    "Support Vector Machine Classifier(Linear):\n",
    "'''\n",
    "class SVM:\n",
    "    #initilize the parameters\n",
    "    def __init__(self, learning_rate=1.8e-6, lambda_=0.001, n_iters=125):\n",
    "        self.lr = learning_rate\n",
    "        self.lambda_ = lambda_\n",
    "        self.n_iters = n_iters\n",
    "        self.w = None\n",
    "        self.b = None\n",
    "\n",
    "    # fit method\n",
    "    def fit(self, X, y):\n",
    "        n_samples, n_features = X.shape # assign the no of shamples and features\n",
    "        \n",
    "        y_ = np.where(y <= 0, -1, 1)      # converting y=0,1 to y=-1,1\n",
    "        \n",
    "        self.w = np.zeros(n_features)        # initilize the weights\n",
    "        self.b = 0                             # initilize the bias\n",
    "\n",
    "        for _ in range(self.n_iters):\n",
    "            for i, x_i in enumerate(X):\n",
    "                condition = y_[i] * (np.dot(x_i, self.w) - self.b) >= 1  \n",
    "                # update the weights and bias\n",
    "                if condition:\n",
    "                    self.w -= self.lr * (2 * self.lambda_ * self.w)\n",
    "                else:\n",
    "                    self.w -= self.lr * (2 * self.lambda_ * self.w - np.dot(x_i, y_[i]))\n",
    "                    self.b -= self.lr * y_[i]\n",
    "    \n",
    "    # predict method\n",
    "    def predict(self, X):\n",
    "        approx = np.dot(X, self.w) - self.b\n",
    "        return np.where(np.sign(approx) <= 0, 0, 1)"
   ]
  },
  {
   "cell_type": "code",
   "execution_count": 8,
   "id": "ab702d07-fd47-42ac-ae2a-39be0588b6c6",
   "metadata": {},
   "outputs": [
    {
     "name": "stdout",
     "output_type": "stream",
     "text": [
      "SVM model Accuracy on the test_set :  73.453 %\n",
      "Processing time taken for the SVM model:  27.76  sec\n"
     ]
    },
    {
     "data": {
      "image/png": "[encoded data removed]",
      "text/plain": [
       "<Figure size 612x612 with 1 Axes>"
      ]
     },
     "metadata": {
      "needs_background": "light"
     },
     "output_type": "display_data"
    }
   ],
   "source": [
    "tic = t.process_time()\n",
    "svm = SVM()\n",
    "svm.fit(Xtrain, ytrain)\n",
    "y_pred1 = svm.predict(Xtest)\n",
    "toc = t.process_time()\n",
    "a1 = accuracy(ytest, y_pred1)\n",
    "t1 = np.round(toc-tic,2)\n",
    "print('SVM model Accuracy on the test_set : ',a1,'%')\n",
    "print('Processing time taken for the SVM model: ',t1,' sec') \n",
    "conf1 = confusion_matrix(ytest, y_pred1, 'SVM')"
   ]
  },
  {
   "cell_type": "markdown",
   "id": "f5f9a2d1-e94d-436c-b137-a0ff2542eb4f",
   "metadata": {},
   "source": [
    "## K_NearestNeighbour:\n",
    "### Algorithm:\n",
    "1. Select the number K of the neighbors,\n",
    "2. Calculate the Euclidean distance of K number of neighbors.\n",
    "> where, $D^2_{a,b} = \\sum_{k=0}^n(a_k-b_k)^2$\n",
    "3. Take the K nearest neighbors as per the calculated Euclidean distance.\n",
    "4. Among these k neighbors, count the number of the data points in each category.\n",
    "5. Assign the new data points to that category for which the number of the neighbor is maximum."
   ]
  },
  {
   "cell_type": "code",
   "execution_count": 9,
   "id": "07351348-ced3-4e0e-b7d1-a00892be9ab2",
   "metadata": {},
   "outputs": [],
   "source": [
    "'''\n",
    "KNN Classifier:\n",
    "'''\n",
    "class knn:\n",
    "    #initilize the parameters\n",
    "    def __init__(self, n_neighbours):\n",
    "        self.k = n_neighbours\n",
    "    \n",
    "    # fit method\n",
    "    def fit(self, X, y):\n",
    "        self.X = X\n",
    "        self.y = y\n",
    "        return self \n",
    "    \n",
    "    #square euclidean norm \n",
    "    def eluclidean_dist(self,a,b):\n",
    "        return np.dot((a-b),(a-b))\n",
    "    \n",
    "    # predict method\n",
    "    def predict(self, X, y):\n",
    "        y_pred = []\n",
    "        for row in X:\n",
    "            # compute euclidean distance\n",
    "            dist = []\n",
    "            for X_row in self.X:\n",
    "                dist.append(self.eluclidean_dist(X_row,row))\n",
    "                \n",
    "            # get k nearest samples, lables \n",
    "            neighbours = list(self.y[np.argsort(dist)[:self.k]])\n",
    "            vote = np.bincount(neighbours)                       # voting the closest neighbours\n",
    "            pred = np.argmax(vote)                                #assign to the mojority \n",
    "            y_pred.append(pred)\n",
    "        return np.array(y_pred)\n",
    "            "
   ]
  },
  {
   "cell_type": "code",
   "execution_count": 10,
   "id": "c301494c-3bf6-4c62-ad1a-c5c66e2dbbda",
   "metadata": {},
   "outputs": [
    {
     "name": "stdout",
     "output_type": "stream",
     "text": [
      "KNN model Accuracy on the test_set :  62.92 %\n",
      "Processing time taken for the KNN model:  407.96  sec\n"
     ]
    },
    {
     "data": {
      "image/png": "[encoded data removed]",
      "text/plain": [
       "<Figure size 612x612 with 1 Axes>"
      ]
     },
     "metadata": {
      "needs_background": "light"
     },
     "output_type": "display_data"
    }
   ],
   "source": [
    "tic = t.process_time()\n",
    "knn = knn(5)\n",
    "knn.fit(Xtrain,ytrain)\n",
    "y_pred2 = knn.predict(Xtest, ytest)\n",
    "toc = t.process_time()\n",
    "a2 = accuracy(ytest, y_pred2)\n",
    "t2 = np.round(toc-tic,2)\n",
    "print('KNN model Accuracy on the test_set : ',a2,'%')\n",
    "print('Processing time taken for the KNN model: ',t2,' sec') \n",
    "conf2 = confusion_matrix(ytest, y_pred2, 'KNN')"
   ]
  },
  {
   "cell_type": "markdown",
   "id": "dd1d317d-7eec-4e5d-9b07-66d434fbe96a",
   "metadata": {},
   "source": [
    "## Logistic Regression:\n",
    "### Algorithm:\n",
    "1. Linear model: $$y = w^T x+b$$\n",
    "2. Approximation:$$\\hat y=\\frac{1}{1+e^{-(w^T x+b)}}$$\n",
    "3. Cross entropy: $$L = \\frac{1}{N}\\sum_{i=1}^{n}[y_i\\log(\\hat y_i)+(1-y_i)\\log(1-\\hat y_i)]$$   \n",
    "4. Gradient Descent:$$\\frac{\\partial L}{\\partial w} = \\frac{1}{N}\\sum_{i=0}^{n}2x_i^T(\\hat y-y_i)$$\n",
    ">and,$$\\frac{\\partial L}{\\partial b} = \\frac{1}{N}\\sum_{i=0}^{n}2(\\hat y-y_i)$$\n",
    "5. Update rules:$$~~w_{i+1} = w_i -\\alpha . \\partial w~~~and~~~b_{i+1} = b_i -\\alpha . \\partial b$$\n",
    ">where, $~\\alpha \\to ~learning~rate$"
   ]
  },
  {
   "cell_type": "code",
   "execution_count": 11,
   "id": "18b72084-39d5-4680-823b-dcd13871f5ba",
   "metadata": {},
   "outputs": [],
   "source": [
    "'''\n",
    "Logistics Regression:\n",
    "'''\n",
    "class LogisticRegression:\n",
    "    # initilise the parameters\n",
    "    def __init__(self, learning_rate, n_iter=125):\n",
    "        self.n_iter = n_iter\n",
    "        self.lr = learning_rate\n",
    "        self.w = None\n",
    "        self.b = None\n",
    "    \n",
    "    # fit methode\n",
    "    def fit(self,X,y):\n",
    "        n_samples, n_features = X.shape\n",
    "        self.w = np.zeros(n_features)  #initilise the weights\n",
    "        self.b = 0                    #initilise the bias\n",
    "        \n",
    "        # gradient descent\n",
    "        for _ in range(self.n_iter):\n",
    "            y_pred = self.sigmoid(X)\n",
    "            \n",
    "            #calculate gradient of weights and bias\n",
    "            dw = (1/n_samples) * np.dot(X.T, (y_pred-y))\n",
    "            db = (1/n_samples) * np.sum(y_pred-y)\n",
    "            #update weights\n",
    "            self.w -= self.lr*dw\n",
    "            self.b -= self.lr*db\n",
    "        return\n",
    "    \n",
    "    # sigmoid function\n",
    "    def sigmoid(self, x):\n",
    "        z = np.dot(x,self.w)+self.b\n",
    "        return (1/(1+np.exp(-z)))\n",
    "    \n",
    "    # predict methode\n",
    "    def predict(self, x):\n",
    "        y = self.sigmoid(x)\n",
    "        return np.where(y <= 0.5, 0, 1)"
   ]
  },
  {
   "cell_type": "code",
   "execution_count": 12,
   "id": "0e21248c-0dae-4def-8dcc-6c4e20b49756",
   "metadata": {},
   "outputs": [
    {
     "name": "stdout",
     "output_type": "stream",
     "text": [
      "Logistic Regression model Accuracy on the test_set :  72.04 %\n",
      "Processing time taken for the LR model:  5.02  sec\n"
     ]
    },
    {
     "data": {
      "image/png": "[encoded data removed]",
      "text/plain": [
       "<Figure size 612x612 with 1 Axes>"
      ]
     },
     "metadata": {
      "needs_background": "light"
     },
     "output_type": "display_data"
    }
   ],
   "source": [
    "tic = t.process_time()\n",
    "LR = LogisticRegression(learning_rate=0.01)\n",
    "LR.fit(Xtrain,ytrain)\n",
    "y_pred3 = LR.predict(Xtest)\n",
    "toc = t.process_time()\n",
    "\n",
    "a3 = accuracy(ytest, y_pred3)\n",
    "t3 = np.round(toc-tic,2)\n",
    "print('Logistic Regression model Accuracy on the test_set : ',a3,'%')\n",
    "print('Processing time taken for the LR model: ',t3,' sec') \n",
    "conf3 = confusion_matrix(ytest, y_pred3, 'LR')"
   ]
  },
  {
   "cell_type": "code",
   "execution_count": 13,
   "id": "9416eb53-e0e7-4940-9cae-9ea1e7b68ab6",
   "metadata": {},
   "outputs": [
    {
     "data": {
      "text/html": [
       "<div>\n",
       "<style scoped>\n",
       "    .dataframe tbody tr th:only-of-type {\n",
       "        vertical-align: middle;\n",
       "    }\n",
       "\n",
       "    .dataframe tbody tr th {\n",
       "        vertical-align: top;\n",
       "    }\n",
       "\n",
       "    .dataframe thead th {\n",
       "        text-align: right;\n",
       "    }\n",
       "</style>\n",
       "<table border=\"1\" class=\"dataframe\">\n",
       "  <thead>\n",
       "    <tr style=\"text-align: right;\">\n",
       "      <th></th>\n",
       "      <th>Classification Model</th>\n",
       "      <th>Procesing time(Sec)</th>\n",
       "      <th>Accuracy{%}</th>\n",
       "      <th>True Cat</th>\n",
       "      <th>False Cat</th>\n",
       "      <th>False Dog</th>\n",
       "      <th>True Dog</th>\n",
       "    </tr>\n",
       "  </thead>\n",
       "  <tbody>\n",
       "    <tr>\n",
       "      <th>0</th>\n",
       "      <td>Support Vector Machine</td>\n",
       "      <td>27.76</td>\n",
       "      <td>73.453</td>\n",
       "      <td>2818</td>\n",
       "      <td>927</td>\n",
       "      <td>1064</td>\n",
       "      <td>2691</td>\n",
       "    </tr>\n",
       "    <tr>\n",
       "      <th>1</th>\n",
       "      <td>K-Nearest Neighbour</td>\n",
       "      <td>407.96</td>\n",
       "      <td>62.920</td>\n",
       "      <td>1369</td>\n",
       "      <td>2376</td>\n",
       "      <td>405</td>\n",
       "      <td>2624</td>\n",
       "    </tr>\n",
       "    <tr>\n",
       "      <th>2</th>\n",
       "      <td>Logistics Regression</td>\n",
       "      <td>5.02</td>\n",
       "      <td>72.040</td>\n",
       "      <td>2779</td>\n",
       "      <td>966</td>\n",
       "      <td>1131</td>\n",
       "      <td>2624</td>\n",
       "    </tr>\n",
       "  </tbody>\n",
       "</table>\n",
       "</div>"
      ],
      "text/plain": [
       "     Classification Model  Procesing time(Sec)  Accuracy{%}  True Cat  \\\n",
       "0  Support Vector Machine                27.76       73.453      2818   \n",
       "1     K-Nearest Neighbour               407.96       62.920      1369   \n",
       "2    Logistics Regression                 5.02       72.040      2779   \n",
       "\n",
       "   False Cat  False Dog  True Dog  \n",
       "0        927       1064      2691  \n",
       "1       2376        405      2624  \n",
       "2        966       1131      2624  "
      ]
     },
     "metadata": {},
     "output_type": "display_data"
    }
   ],
   "source": [
    "\"\"\"\n",
    "Side by side comparison of all three machinelearning models:\n",
    "\"\"\"\n",
    "# initialize list of lists\n",
    "data2 = [['Support Vector Machine', t1, a1, conf1[0], conf1[1], conf1[2], conf1[3]], ['K-Nearest Neighbour', t2, a2, conf2[0], conf2[1], conf2[2], conf3[3]], ['Logistics Regression', t3, a3, conf3[0], conf3[1], conf3[2], conf3[3]]]\n",
    " \n",
    "# Create the pandas DataFram3\n",
    "df = pd.DataFrame(data2, columns = ['Classification Model', 'Procesing time(Sec)', 'Accuracy{%}','True Cat', 'False Cat', 'False Dog', 'True Dog',])\n",
    " \n",
    "# print dataframe.\n",
    "display(df)"
   ]
  },
  {
   "cell_type": "markdown",
   "id": "294ee85d-ef26-4047-86c1-3b4bb843cca1",
   "metadata": {},
   "source": [
    "## Conclusion:\n",
    "1. Traning the model after performing the feature extraction give far better result, compare to the using the raw pixel values as the feature vector.\n",
    "\n",
    "2. Also tested using PCA. But PCA delivered poor result as we loose too much infromation from the data sets after peforming PCA.\n",
    "\n",
    "3. Also tested using Keras resnet 50 feature extractor which delivered promissing results, but as it uses neuralnetwork for feature extraction so it is not use in the final answer {All the testing files are to be attached into the 'Experiment' folder}.\n",
    "\n",
    "3. From the model output we can conclude that,\n",
    "    1. Time complexity is highest for the KNN model compare to svm and logistic regression.\n",
    "    2. For this image classification svm delivered the best accuracy followed by Logistics Regression and KNN.\n",
    "    3. For similar no of itteration and learning rate SVM is superior than logistics regression."
   ]
  },
  {
   "cell_type": "markdown",
   "id": "6abd691f-2b55-4e40-893e-3b5f3813a9f8",
   "metadata": {},
   "source": [
    "---"
   ]
  }
 ],
 "metadata": {
  "kernelspec": {
   "display_name": "Python 3 (ipykernel)",
   "language": "python",
   "name": "python3"
  },
  "language_info": {
   "codemirror_mode": {
    "name": "ipython",
    "version": 3
   },
   "file_extension": ".py",
   "mimetype": "text/x-python",
   "name": "python",
   "nbconvert_exporter": "python",
   "pygments_lexer": "ipython3",
   "version": "3.8.12"
  }
 },
 "nbformat": 4,
 "nbformat_minor": 5
}
