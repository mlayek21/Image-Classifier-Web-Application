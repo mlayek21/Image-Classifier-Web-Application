{
  "cells": [
    {
      "cell_type": "markdown",
      "metadata": {
        "id": "48bv7O6N1MiF"
      },
      "source": [
        "# **Question**:\n",
        "The dataset comprising of dogs and cats images is uploaded to google drive.  You will have to write a code that can use **KNNClassifier, SVC, and logistic regression** for classification. You can train the data using the train.zip folder and report the confusion matrix on test1.zip folder."
      ],
      "id": "48bv7O6N1MiF"
    },
    {
      "cell_type": "code",
      "execution_count": 1,
      "metadata": {
        "id": "4c06bf5c-1fff-4281-97e3-2cfb7fdb6847"
      },
      "outputs": [],
      "source": [
        "'''\n",
        "Importing liberies\n",
        "'''\n",
        "import cv2 as cv\n",
        "import os\n",
        "import numpy as np\n",
        "import matplotlib.pyplot as plt\n",
        "from sklearn.preprocessing import MinMaxScaler\n",
        "from sklearn.metrics import accuracy_score\n",
        "from sklearn.model_selection import train_test_split\n",
        "from sklearn.decomposition import PCA\n",
        "from sklearn.svm import SVC\n",
        "from sklearn.metrics import confusion_matrix\n",
        "from sklearn.neighbors import KNeighborsClassifier\n",
        "from sklearn.linear_model import LogisticRegression"
      ],
      "id": "4c06bf5c-1fff-4281-97e3-2cfb7fdb6847"
    },
    {
      "cell_type": "code",
      "execution_count": 2,
      "metadata": {
        "colab": {
          "base_uri": "https://localhost:8080/",
          "height": 54
        },
        "id": "kzZoSgkhpbCp",
        "outputId": "55b94b55-065c-429c-f367-7356b814b066"
      },
      "outputs": [
        {
          "output_type": "stream",
          "name": "stdout",
          "text": [
            "Mounted at /content/drive\n"
          ]
        },
        {
          "output_type": "execute_result",
          "data": {
            "text/plain": [
              "'\\nunziping the datasets in the directory\\n'"
            ],
            "application/vnd.google.colaboratory.intrinsic+json": {
              "type": "string"
            }
          },
          "metadata": {},
          "execution_count": 2
        }
      ],
      "source": [
        "from google.colab import drive\n",
        "drive.mount('/content/drive')\n",
        "\n",
        "'''\n",
        "unziping the datasets in the directory\n",
        "'''\n",
        "# !unzip '/content/drive/MyDrive/Colab Notebooks/Assin2/train.zip' -d '/content/drive/MyDrive/Colab Notebooks/Assin2/'\n",
        "# !unzip '/content/drive/MyDrive/Colab Notebooks/Assin2/test1 (1).zip' -d '/content/drive/MyDrive/Colab Notebooks/Assin2/'"
      ],
      "id": "kzZoSgkhpbCp"
    },
    {
      "cell_type": "code",
      "execution_count": 3,
      "metadata": {
        "id": "1fb2efa8-df97-462e-b75c-aa8401918e7e"
      },
      "outputs": [],
      "source": [
        "'''\n",
        "function: pre-processing the images into np arrays\n",
        "'''\n",
        "def img(data_folder, dim):\n",
        "    im_data = []\n",
        "    # Load in the images\n",
        "    for filepath in os.listdir(data_folder):\n",
        "        # print(filepath)\n",
        "        label=None\n",
        "        x = cv.imread(data_folder+'{0}'.format(filepath),cv.IMREAD_GRAYSCALE)\n",
        "        features = np.array(cv.resize(x, dim)).flatten()\n",
        "        \n",
        "        # labelling the images \n",
        "        if (filepath[0:3]==\"cat\")==True:    # cat label=0\n",
        "            label = 0\n",
        "        elif (filepath[0:3]==\"dog\")==True: \n",
        "            label = 1                        # dog label=1 \n",
        "        else :\n",
        "          label = None\n",
        "          \n",
        "        im_data.append(np.hstack(np.array([features, label],dtype=object)))\n",
        "        # break\n",
        "    data = np.vstack(im_data)\n",
        "    return data\n"
      ],
      "id": "1fb2efa8-df97-462e-b75c-aa8401918e7e"
    },
    {
      "cell_type": "code",
      "execution_count": 4,
      "metadata": {
        "id": "34986eaa-0499-439e-b518-f4f6ec1f562a",
        "scrolled": true,
        "colab": {
          "base_uri": "https://localhost:8080/"
        },
        "outputId": "34eb62d7-5601-47ac-b105-4942a0f8f698"
      },
      "outputs": [
        {
          "output_type": "stream",
          "name": "stdout",
          "text": [
            "Feature matrix shape is:  (25000, 3600)\n"
          ]
        }
      ],
      "source": [
        "'''\n",
        "Create the n-dimentional array having feature =(60*60) and label of the train data\n",
        "'''\n",
        "dim = (60,60) #reshape the images\n",
        "data = img('/content/drive/MyDrive/Colab Notebooks/Assin2/train/',dim) #train dataset\n",
        "X,y = data[:,:-1],data[:,-1]\n",
        "\n",
        "# get shape of feature matrix\n",
        "print('Feature matrix shape is: ', X.shape)"
      ],
      "id": "34986eaa-0499-439e-b518-f4f6ec1f562a"
    },
    {
      "cell_type": "code",
      "source": [
        "# feature extraction using pca\n",
        "pca = PCA(n_components=2500, svd_solver='full')\n",
        "X = pca.fit_transform(X)\n",
        "# define standard scaler\n",
        "ss = MinMaxScaler()\n",
        "# run this on our feature matrix\n",
        "X = ss.fit_transform(X)\n",
        "X_train, X_test, y_train, y_test = train_test_split(X, y, test_size=0.3, random_state=42)\n",
        "display (X.shape)"
      ],
      "metadata": {
        "colab": {
          "base_uri": "https://localhost:8080/",
          "height": 34
        },
        "id": "8ywHEYtS4gnc",
        "outputId": "a8b5dfb2-5c5b-4979-ad90-0196529e9cb2"
      },
      "id": "8ywHEYtS4gnc",
      "execution_count": 5,
      "outputs": [
        {
          "output_type": "display_data",
          "data": {
            "text/plain": [
              "(25000, 2500)"
            ]
          },
          "metadata": {}
        }
      ]
    },
    {
      "cell_type": "code",
      "execution_count": 6,
      "metadata": {
        "id": "dab8a3cd-6a8b-45e7-8257-440b95e7be0c",
        "colab": {
          "base_uri": "https://localhost:8080/",
          "height": 285
        },
        "outputId": "090263c5-d6cd-4425-f28b-92ba2ee4b42e"
      },
      "outputs": [
        {
          "output_type": "stream",
          "name": "stdout",
          "text": [
            "Cat\n"
          ]
        },
        {
          "output_type": "display_data",
          "data": {
            "text/plain": [
              "<Figure size 432x288 with 1 Axes>"
            ],
            "image/png": "[encoded data removed]"
          },
          "metadata": {
            "needs_background": "light"
          }
        }
      ],
      "source": [
        "i=np.random.randint(25000)\n",
        "plt.imshow(data[i][0:-1].reshape(dim), cmap='gray')\n",
        "if data[i][-1]==1:\n",
        "    print('Dog')\n",
        "elif data[i][-1]==0:\n",
        "    print('Cat')"
      ],
      "id": "dab8a3cd-6a8b-45e7-8257-440b95e7be0c"
    },
    {
      "cell_type": "code",
      "execution_count": 7,
      "metadata": {
        "id": "5e40f67f-2253-45c3-931a-a58283643c06",
        "colab": {
          "base_uri": "https://localhost:8080/",
          "height": 102
        },
        "outputId": "bc65b55e-3bfc-44eb-80d4-9c0c4d89c16a"
      },
      "outputs": [
        {
          "output_type": "display_data",
          "data": {
            "text/plain": [
              "49.62666666666667"
            ]
          },
          "metadata": {}
        },
        {
          "output_type": "display_data",
          "data": {
            "text/plain": [
              "array([[3722,    0],\n",
              "       [3778,    0]])"
            ]
          },
          "metadata": {}
        },
        {
          "output_type": "stream",
          "name": "stdout",
          "text": [
            "CPU times: user 18min 27s, sys: 917 ms, total: 18min 28s\n",
            "Wall time: 18min 26s\n"
          ]
        }
      ],
      "source": [
        "%%time\n",
        "# define support vector classifier\n",
        "svm = SVC(gamma='auto')\n",
        "# fit model\n",
        "svm.fit(X_train, y_train)\n",
        "\n",
        "y_pred = svm.predict(X_test)\n",
        "display(accuracy_score(y_test, y_pred)*100)\n",
        "display(confusion_matrix(y_test, y_pred))"
      ],
      "id": "5e40f67f-2253-45c3-931a-a58283643c06"
    },
    {
      "cell_type": "code",
      "execution_count": 8,
      "metadata": {
        "id": "LJEGxi15yVj2",
        "colab": {
          "base_uri": "https://localhost:8080/",
          "height": 102
        },
        "outputId": "993d5677-b61d-41e5-872a-5a17b9ebe9b0"
      },
      "outputs": [
        {
          "output_type": "display_data",
          "data": {
            "text/plain": [
              "49.01333333333333"
            ]
          },
          "metadata": {}
        },
        {
          "output_type": "display_data",
          "data": {
            "text/plain": [
              "array([[ 760, 2962],\n",
              "       [ 862, 2916]])"
            ]
          },
          "metadata": {}
        },
        {
          "output_type": "stream",
          "name": "stdout",
          "text": [
            "CPU times: user 37.3 s, sys: 594 ms, total: 37.9 s\n",
            "Wall time: 20.6 s\n"
          ]
        }
      ],
      "source": [
        "%%time\n",
        "KNN_clf = KNeighborsClassifier(n_neighbors=5)\n",
        "KNN_clf.fit(X_train, y_train)\n",
        "y_pred1 = KNN_clf.predict(X_test)\n",
        "display(accuracy_score(y_test, y_pred1)*100)\n",
        "display(confusion_matrix(y_test, y_pred1))"
      ],
      "id": "LJEGxi15yVj2"
    },
    {
      "cell_type": "code",
      "execution_count": 9,
      "metadata": {
        "id": "jjn5A1H0CH8Z",
        "colab": {
          "base_uri": "https://localhost:8080/",
          "height": 102
        },
        "outputId": "26d74b97-8673-4178-ed5d-e4d22bb75cde"
      },
      "outputs": [
        {
          "output_type": "display_data",
          "data": {
            "text/plain": [
              "53.16"
            ]
          },
          "metadata": {}
        },
        {
          "output_type": "display_data",
          "data": {
            "text/plain": [
              "array([[2053, 1669],\n",
              "       [1844, 1934]])"
            ]
          },
          "metadata": {}
        },
        {
          "output_type": "stream",
          "name": "stdout",
          "text": [
            "CPU times: user 1min 26s, sys: 125 ms, total: 1min 26s\n",
            "Wall time: 1min 28s\n"
          ]
        }
      ],
      "source": [
        "%%time\n",
        "lr_clf = LogisticRegression(solver='saga', max_iter=1000)\n",
        "lr_clf.fit(X_train,y_train)\n",
        "y_pred2 = lr_clf.predict(X_test)\n",
        "display(accuracy_score(y_test, y_pred2)*100)\n",
        "display(confusion_matrix(y_test, y_pred2))"
      ],
      "id": "jjn5A1H0CH8Z"
    },
    {
      "cell_type": "markdown",
      "source": [
        "<h2> Conclusion:\n",
        "\n",
        "1. Basically, when we use PCA as the feature vector.\n",
        "2. All three machine learning models (svm,knn,lr) failed to perform that well.\n",
        "\n",
        "3. Reason being using PCA we looses some information from the dataset."
      ],
      "metadata": {
        "id": "fF4S8ApgYN09"
      },
      "id": "fF4S8ApgYN09"
    },
    {
      "cell_type": "code",
      "source": [
        ""
      ],
      "metadata": {
        "id": "aGVGoeZxI_Dk"
      },
      "id": "aGVGoeZxI_Dk",
      "execution_count": null,
      "outputs": []
    }
  ],
  "metadata": {
    "accelerator": "GPU",
    "colab": {
      "collapsed_sections": [],
      "name": "Assignment2.ipynb",
      "provenance": []
    },
    "kernelspec": {
      "display_name": "Python 3 (ipykernel)",
      "language": "python",
      "name": "python3"
    },
    "language_info": {
      "codemirror_mode": {
        "name": "ipython",
        "version": 3
      },
      "file_extension": ".py",
      "mimetype": "text/x-python",
      "name": "python",
      "nbconvert_exporter": "python",
      "pygments_lexer": "ipython3",
      "version": "3.8.12"
    }
  },
  "nbformat": 4,
  "nbformat_minor": 5
}