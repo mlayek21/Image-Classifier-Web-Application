{
 "cells": [
  {
   "cell_type": "markdown",
   "id": "48bv7O6N1MiF",
   "metadata": {
    "id": "48bv7O6N1MiF"
   },
   "source": [
    "# **Question**:\n",
    "The dataset comprising of dogs and cats images is uploaded to google drive.  You will have to write a code that can use **KNNClassifier, SVC, and logistic regression** for classification. You can train the data using the train.zip folder and report the confusion matrix on test1.zip folder."
   ]
  },
  {
   "cell_type": "code",
   "execution_count": 1,
   "id": "4c06bf5c-1fff-4281-97e3-2cfb7fdb6847",
   "metadata": {
    "id": "4c06bf5c-1fff-4281-97e3-2cfb7fdb6847"
   },
   "outputs": [],
   "source": [
    "'''\n",
    "Importing liberies\n",
    "'''\n",
    "import cv2 as cv\n",
    "import os\n",
    "import numpy as np\n",
    "import matplotlib.pyplot as plt\n",
    "from sklearn.preprocessing import MinMaxScaler\n",
    "from sklearn.metrics import accuracy_score\n",
    "from sklearn.model_selection import train_test_split\n",
    "from sklearn.svm import SVC\n",
    "from sklearn.metrics import confusion_matrix\n",
    "from sklearn.neighbors import KNeighborsClassifier\n",
    "from sklearn.linear_model import LogisticRegression"
   ]
  },
  {
   "cell_type": "code",
   "execution_count": 2,
   "id": "kzZoSgkhpbCp",
   "metadata": {
    "colab": {
     "base_uri": "https://localhost:8080/",
     "height": 54
    },
    "id": "kzZoSgkhpbCp",
    "outputId": "40fe71f4-6f79-4946-e8cb-3871070509a6"
   },
   "outputs": [
    {
     "name": "stdout",
     "output_type": "stream",
     "text": [
      "Mounted at /content/drive\n"
     ]
    },
    {
     "data": {
      "application/vnd.google.colaboratory.intrinsic+json": {
       "type": "string"
      },
      "text/plain": [
       "'\\nunziping the datasets in the directory\\n'"
      ]
     },
     "execution_count": 2,
     "metadata": {},
     "output_type": "execute_result"
    }
   ],
   "source": [
    "from google.colab import drive\n",
    "drive.mount('/content/drive')\n",
    "\n",
    "'''\n",
    "unziping the datasets in the directory\n",
    "'''\n",
    "# !unzip '/content/drive/MyDrive/Colab Notebooks/Assin2/train.zip' -d '/content/drive/MyDrive/Colab Notebooks/Assin2/'\n",
    "# !unzip '/content/drive/MyDrive/Colab Notebooks/Assin2/test1 (1).zip' -d '/content/drive/MyDrive/Colab Notebooks/Assin2/'"
   ]
  },
  {
   "cell_type": "code",
   "execution_count": 3,
   "id": "1fb2efa8-df97-462e-b75c-aa8401918e7e",
   "metadata": {
    "id": "1fb2efa8-df97-462e-b75c-aa8401918e7e"
   },
   "outputs": [],
   "source": [
    "'''\n",
    "function: pre-processing the images into np arrays\n",
    "'''\n",
    "def img(data_folder, dim):\n",
    "    im_data = []\n",
    "    # Load in the images\n",
    "    for filepath in os.listdir(data_folder):\n",
    "        # print(filepath)\n",
    "        label=None\n",
    "        x = cv.imread(data_folder+'{0}'.format(filepath),cv.IMREAD_GRAYSCALE)\n",
    "        features = np.array(cv.resize(x, dim)).flatten()\n",
    "        \n",
    "        # labelling the images \n",
    "        if (filepath[0:3]==\"cat\")==True:    # cat label=0\n",
    "            label = 0\n",
    "        elif (filepath[0:3]==\"dog\")==True: \n",
    "            label = 1                        # dog label=1 \n",
    "        else :\n",
    "            label = None\n",
    "          \n",
    "        im_data.append(np.hstack(np.array([features, label],dtype=object)))\n",
    "        # break\n",
    "    data = np.vstack(im_data)\n",
    "    return data\n"
   ]
  },
  {
   "cell_type": "code",
   "execution_count": 6,
   "id": "34986eaa-0499-439e-b518-f4f6ec1f562a",
   "metadata": {
    "colab": {
     "base_uri": "https://localhost:8080/"
    },
    "id": "34986eaa-0499-439e-b518-f4f6ec1f562a",
    "outputId": "1bb31b60-c986-4a0a-f404-47521a0dbe41",
    "scrolled": true
   },
   "outputs": [
    {
     "name": "stdout",
     "output_type": "stream",
     "text": [
      "Feature matrix shape is:  (25000, 2500)\n"
     ]
    }
   ],
   "source": [
    "'''\n",
    "Create the n-dimentional array having feature =(60*60) and label of the train data\n",
    "'''\n",
    "dim = (50,50) #reshape the images\n",
    "data = img('/content/drive/MyDrive/Colab Notebooks/Assin2/Assignment2/train/',dim) #train dataset\n",
    "X,y = data[:,:-1],data[:,-1]\n",
    "\n",
    "# get shape of feature matrix\n",
    "print('Feature matrix shape is: ', X.shape)\n",
    "\n",
    "# define standard scaler\n",
    "ss = MinMaxScaler()\n",
    "# run this on our feature matrix\n",
    "X = ss.fit_transform(X)\n",
    "X_train, X_test, y_train, y_test = train_test_split(X, y, test_size=0.3, random_state=42)"
   ]
  },
  {
   "cell_type": "code",
   "execution_count": 7,
   "id": "dab8a3cd-6a8b-45e7-8257-440b95e7be0c",
   "metadata": {
    "colab": {
     "base_uri": "https://localhost:8080/",
     "height": 284
    },
    "id": "dab8a3cd-6a8b-45e7-8257-440b95e7be0c",
    "outputId": "1d2ea927-345e-4ea8-dd20-657d50196f1a"
   },
   "outputs": [
    {
     "name": "stdout",
     "output_type": "stream",
     "text": [
      "Cat\n"
     ]
    },
    {
     "data": {
      "image/png": "[encoded data removed]",
      "text/plain": [
       "<Figure size 432x288 with 1 Axes>"
      ]
     },
     "metadata": {
      "needs_background": "light"
     },
     "output_type": "display_data"
    }
   ],
   "source": [
    "i=np.random.randint(25000)\n",
    "plt.imshow(data[i][0:-1].reshape(dim), cmap='gray')\n",
    "if data[i][-1]==1:\n",
    "    print('Dog')\n",
    "elif data[i][-1]==0:\n",
    "    print('Cat')"
   ]
  },
  {
   "cell_type": "code",
   "execution_count": 8,
   "id": "5e40f67f-2253-45c3-931a-a58283643c06",
   "metadata": {
    "colab": {
     "base_uri": "https://localhost:8080/",
     "height": 102
    },
    "id": "5e40f67f-2253-45c3-931a-a58283643c06",
    "outputId": "c2d595df-4756-493a-9830-3480f227eb35"
   },
   "outputs": [
    {
     "data": {
      "text/plain": [
       "61.040000000000006"
      ]
     },
     "metadata": {},
     "output_type": "display_data"
    },
    {
     "data": {
      "text/plain": [
       "array([[1851, 1871],\n",
       "       [1051, 2727]])"
      ]
     },
     "metadata": {},
     "output_type": "display_data"
    },
    {
     "name": "stdout",
     "output_type": "stream",
     "text": [
      "CPU times: user 15min 22s, sys: 0 ns, total: 15min 22s\n",
      "Wall time: 15min 16s\n"
     ]
    }
   ],
   "source": [
    "%%time\n",
    "# define support vector classifier\n",
    "svm = SVC(gamma='auto')\n",
    "# fit model\n",
    "svm.fit(X_train, y_train)\n",
    "\n",
    "y_pred = svm.predict(X_test)\n",
    "display(accuracy_score(y_test, y_pred)*100)\n",
    "display(confusion_matrix(y_test, y_pred))"
   ]
  },
  {
   "cell_type": "code",
   "execution_count": 9,
   "id": "LJEGxi15yVj2",
   "metadata": {
    "colab": {
     "base_uri": "https://localhost:8080/",
     "height": 102
    },
    "id": "LJEGxi15yVj2",
    "outputId": "36ade68b-3daf-4fd0-f4b0-4e28a069279f"
   },
   "outputs": [
    {
     "data": {
      "text/plain": [
       "54.946666666666665"
      ]
     },
     "metadata": {},
     "output_type": "display_data"
    },
    {
     "data": {
      "text/plain": [
       "array([[2644, 1078],\n",
       "       [2301, 1477]])"
      ]
     },
     "metadata": {},
     "output_type": "display_data"
    },
    {
     "name": "stdout",
     "output_type": "stream",
     "text": [
      "CPU times: user 38.9 s, sys: 13.5 ms, total: 38.9 s\n",
      "Wall time: 21.2 s\n"
     ]
    }
   ],
   "source": [
    "%%time\n",
    "KNN_clf = KNeighborsClassifier(n_neighbors=5)\n",
    "KNN_clf.fit(X_train, y_train)\n",
    "y_pred1 = KNN_clf.predict(X_test)\n",
    "display(accuracy_score(y_test, y_pred1)*100)\n",
    "display(confusion_matrix(y_test, y_pred1))"
   ]
  },
  {
   "cell_type": "code",
   "execution_count": 10,
   "id": "jjn5A1H0CH8Z",
   "metadata": {
    "colab": {
     "base_uri": "https://localhost:8080/",
     "height": 102
    },
    "id": "jjn5A1H0CH8Z",
    "outputId": "3cc1da5f-b238-4c76-fead-17227e74797b"
   },
   "outputs": [
    {
     "data": {
      "text/plain": [
       "52.82666666666667"
      ]
     },
     "metadata": {},
     "output_type": "display_data"
    },
    {
     "data": {
      "text/plain": [
       "array([[2045, 1677],\n",
       "       [1861, 1917]])"
      ]
     },
     "metadata": {},
     "output_type": "display_data"
    },
    {
     "name": "stdout",
     "output_type": "stream",
     "text": [
      "CPU times: user 8min 37s, sys: 455 ms, total: 8min 37s\n",
      "Wall time: 8min 44s\n"
     ]
    }
   ],
   "source": [
    "%%time\n",
    "lr_clf = LogisticRegression(solver='saga', max_iter=1000)\n",
    "lr_clf.fit(X_train,y_train)\n",
    "y_pred2 = lr_clf.predict(X_test)\n",
    "display(accuracy_score(y_test, y_pred2)*100)\n",
    "display(confusion_matrix(y_test, y_pred2))"
   ]
  },
  {
   "cell_type": "code",
   "execution_count": 11,
   "id": "HgqX0xF8DjQw",
   "metadata": {
    "colab": {
     "base_uri": "https://localhost:8080/",
     "height": 68
    },
    "id": "HgqX0xF8DjQw",
    "outputId": "36f65a25-304e-4dec-b3cf-3fb8c7db46f5"
   },
   "outputs": [
    {
     "data": {
      "text/plain": [
       "58.84"
      ]
     },
     "metadata": {},
     "output_type": "display_data"
    },
    {
     "data": {
      "text/plain": [
       "array([[2390, 1332],\n",
       "       [1755, 2023]])"
      ]
     },
     "metadata": {},
     "output_type": "display_data"
    }
   ],
   "source": [
    "# define support vector classifier\n",
    "svm = SVC(C = 1, kernel='poly', gamma='auto')\n",
    "# fit model\n",
    "svm.fit(X_train, y_train)\n",
    "\n",
    "y_pred = svm.predict(X_test)\n",
    "display(accuracy_score(y_test, y_pred)*100)\n",
    "display(confusion_matrix(y_test, y_pred))"
   ]
  },
  {
   "cell_type": "code",
   "execution_count": 12,
   "id": "bPihpmASUhHn",
   "metadata": {
    "colab": {
     "base_uri": "https://localhost:8080/"
    },
    "id": "bPihpmASUhHn",
    "outputId": "b25781d9-84db-438e-b0ca-d25898c703e9"
   },
   "outputs": [
    {
     "data": {
      "text/plain": [
       "((7500, 2500), (17500, 2500))"
      ]
     },
     "execution_count": 12,
     "metadata": {},
     "output_type": "execute_result"
    }
   ],
   "source": [
    "X_test.shape, X_train.shape"
   ]
  },
  {
   "cell_type": "markdown",
   "id": "fF4S8ApgYN09",
   "metadata": {
    "id": "fF4S8ApgYN09"
   },
   "source": [
    "## Conclusion:\n",
    "1. Basically, when we use the pixel values as the feature vector.\n",
    "2. All three machine learning models (svm,knn,lr) failed to perform that well.\n",
    "3. Out of the all three modles svm does better job and have best accuracy.\n",
    "4. So we need to use other feature extration techniques."
   ]
  },
  {
   "cell_type": "code",
   "execution_count": null,
   "id": "ZFf1qN1iXExZ",
   "metadata": {
    "id": "ZFf1qN1iXExZ"
   },
   "outputs": [],
   "source": []
  }
 ],
 "metadata": {
  "accelerator": "GPU",
  "colab": {
   "collapsed_sections": [],
   "name": "Assignment2.ipynb",
   "provenance": []
  },
  "kernelspec": {
   "display_name": "Python 3 (ipykernel)",
   "language": "python",
   "name": "python3"
  },
  "language_info": {
   "codemirror_mode": {
    "name": "ipython",
    "version": 3
   },
   "file_extension": ".py",
   "mimetype": "text/x-python",
   "name": "python",
   "nbconvert_exporter": "python",
   "pygments_lexer": "ipython3",
   "version": "3.8.12"
  }
 },
 "nbformat": 4,
 "nbformat_minor": 5
}
